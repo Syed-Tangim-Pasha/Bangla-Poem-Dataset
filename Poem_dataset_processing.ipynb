{
  "nbformat": 4,
  "nbformat_minor": 0,
  "metadata": {
    "colab": {
      "provenance": [],
      "authorship_tag": "ABX9TyP/n+CTMTl/Cekb2aq1tyTB",
      "include_colab_link": true
    },
    "kernelspec": {
      "name": "python3",
      "display_name": "Python 3"
    }
  },
  "cells": [
    {
      "cell_type": "markdown",
      "metadata": {
        "id": "view-in-github",
        "colab_type": "text"
      },
      "source": [
        "<a href=\"https://colab.research.google.com/github/Syed-Tangim-Pasha/Bangla-Poem-Dataset/blob/main/Poem_dataset_processing.ipynb\" target=\"_parent\"><img src=\"https://colab.research.google.com/assets/colab-badge.svg\" alt=\"Open In Colab\"/></a>"
      ]
    },
    {
      "cell_type": "code",
      "metadata": {
        "id": "UUiJ7_1TX62i"
      },
      "source": [
        "import re \n",
        "  \n",
        "test_str = input()\n",
        "res = re.sub(' +', ' ', test_str) \n",
        "print( str(res)) "
      ],
      "execution_count": null,
      "outputs": []
    }
  ]
}